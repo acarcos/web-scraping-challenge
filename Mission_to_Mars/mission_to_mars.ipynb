{
 "cells": [
  {
   "cell_type": "markdown",
   "metadata": {},
   "source": [
    "## Scraping"
   ]
  },
  {
   "cell_type": "markdown",
   "metadata": {},
   "source": [
    "#### NASA Mars News\n",
    "* Collect the latest news titles and paragraph texts."
   ]
  },
  {
   "cell_type": "code",
   "execution_count": null,
   "metadata": {},
   "outputs": [],
   "source": [
    "# Import libraries\n",
    "from splinter import Browser\n",
    "from bs4 import BeautifulSoup as bs\n",
    "import pandas as pd"
   ]
  },
  {
   "cell_type": "code",
   "execution_count": null,
   "metadata": {},
   "outputs": [],
   "source": [
    "# Conection to Chrome browser\n",
    "executable_path = {'executable_path': '/usr/local/bin/chromedriver'}\n",
    "browser = Browser('chrome', **executable_path, headless=False)"
   ]
  },
  {
   "cell_type": "code",
   "execution_count": null,
   "metadata": {},
   "outputs": [],
   "source": [
    "# Read URL\n",
    "url_news = 'https://mars.nasa.gov/news/'\n",
    "browser.visit(url_news)"
   ]
  },
  {
   "cell_type": "code",
   "execution_count": null,
   "metadata": {},
   "outputs": [],
   "source": [
    "# Get HTML from URL\n",
    "html_news = browser.html\n",
    "# Parse HTML with Beautiful Soup\n",
    "soup_news = bs(html_news, 'html.parser')"
   ]
  },
  {
   "cell_type": "code",
   "execution_count": null,
   "metadata": {},
   "outputs": [],
   "source": [
    "# Already inspected the webpage so\n",
    "# Retrieve elements like Mars news titles\n",
    "mars_news = soup_news.find_all('div', class_='list_text')"
   ]
  },
  {
   "cell_type": "code",
   "execution_count": null,
   "metadata": {},
   "outputs": [],
   "source": [
    "# Iterate through each title and save it in lists\n",
    "news_title = []\n",
    "news_title_prg = []\n",
    "for title in mars_news:\n",
    "    tag = title.find('a')\n",
    "    header = tag.next\n",
    "    prg = tag.next.next.text\n",
    "    news_title.append(header)\n",
    "    news_title_prg.append(prg)"
   ]
  },
  {
   "cell_type": "code",
   "execution_count": null,
   "metadata": {},
   "outputs": [],
   "source": [
    "print(news_title[0])\n",
    "print(news_title_prg[0])"
   ]
  },
  {
   "cell_type": "markdown",
   "metadata": {},
   "source": [
    "#### JPL Mars Space Images - Featured Image\n",
    "* Find URL for the latest Featured Mars Image"
   ]
  },
  {
   "cell_type": "code",
   "execution_count": null,
   "metadata": {},
   "outputs": [],
   "source": [
    "# URL\n",
    "url_jpl = 'https://www.jpl.nasa.gov/spaceimages/?search=&category=Mars'\n",
    "browser.visit(url_jpl)"
   ]
  },
  {
   "cell_type": "code",
   "execution_count": null,
   "metadata": {},
   "outputs": [],
   "source": [
    "# Get HTML and parse it with BS\n",
    "html_jpl = browser.html\n",
    "soup_jpl = bs(html_jpl, \"html.parser\")"
   ]
  },
  {
   "cell_type": "code",
   "execution_count": null,
   "metadata": {},
   "outputs": [],
   "source": [
    "# Inspect the link\n",
    "img_tag = soup_jpl.find('div', class_='img').find('img')"
   ]
  },
  {
   "cell_type": "code",
   "execution_count": null,
   "metadata": {},
   "outputs": [],
   "source": [
    "# Get the latest image from Mars \n",
    "img_source = img_tag['src']\n",
    "img_title = img_tag['title']"
   ]
  },
  {
   "cell_type": "code",
   "execution_count": null,
   "metadata": {},
   "outputs": [],
   "source": [
    "# Save the link \n",
    "featured_image_url = 'https://www.jpl.nasa.gov' + img_source\n",
    "print(featured_image_url)"
   ]
  },
  {
   "cell_type": "markdown",
   "metadata": {},
   "source": [
    "#### Mars Weather\n",
    "* Scraping the latest Mars weather tweet."
   ]
  },
  {
   "cell_type": "code",
   "execution_count": null,
   "metadata": {},
   "outputs": [],
   "source": [
    "# Link to Twitter\n",
    "url_tw = 'https://twitter.com/marswxreport'\n",
    "browser.visit(url_tw)"
   ]
  },
  {
   "cell_type": "code",
   "execution_count": null,
   "metadata": {},
   "outputs": [],
   "source": [
    "# Parse HTML with BS\n",
    "html_tw = browser.html\n",
    "soup_tw = bs(html_tw, \"html.parser\")"
   ]
  },
  {
   "cell_type": "code",
   "execution_count": null,
   "metadata": {},
   "outputs": [],
   "source": [
    "# Get latest twit\n",
    "tweets = soup_tw.find_all(class_=\"css-901oao r-jwli3a r-1qd0xha r-a023e6 r-16dba41 r-ad9z0x r-bcqeeo r-bnwqim r-qvutc0\")\n"
   ]
  },
  {
   "cell_type": "code",
   "execution_count": null,
   "metadata": {},
   "outputs": [],
   "source": [
    "# Sometimes the latest tweet is not about the Mars Weather, \n",
    "# so the last four tweets are inspected\n",
    "list_mars_weather = []\n",
    "for i in range(len(tweets)):\n",
    "        weather = tweets[i].text\n",
    "        #print(weather)\n",
    "        if weather[:7] == 'InSight':\n",
    "            list_mars_weather.append(weather)\n",
    "            break\n",
    "        else:\n",
    "            continue"
   ]
  },
  {
   "cell_type": "code",
   "execution_count": null,
   "metadata": {},
   "outputs": [],
   "source": [
    "list_mars_weather"
   ]
  },
  {
   "cell_type": "markdown",
   "metadata": {},
   "source": [
    "#### Mars Facts Table\n",
    "* Table containing facts about the planet using the Mars Facts webpage."
   ]
  },
  {
   "cell_type": "code",
   "execution_count": null,
   "metadata": {},
   "outputs": [],
   "source": [
    "# URL\n",
    "url_table = 'https://space-facts.com/mars/'\n",
    "mars_table = pd.read_html(url_table) "
   ]
  },
  {
   "cell_type": "code",
   "execution_count": null,
   "metadata": {},
   "outputs": [],
   "source": [
    "# Pandas read two tables, only get one\n",
    "mars_table_one = mars_table[0]\n",
    "mars_table_one.columns = ['Parameter', 'Value']\n",
    "mars_table_one"
   ]
  },
  {
   "cell_type": "code",
   "execution_count": null,
   "metadata": {},
   "outputs": [],
   "source": [
    "# Export as a HTML file\n",
    "mars_table_one.to_html('mars_facts/mars_facts.html', index=False, justify='center')"
   ]
  },
  {
   "cell_type": "markdown",
   "metadata": {},
   "source": [
    "#### Mars hemispheres\n",
    "* High resolution images for each of Mar's hemispheres."
   ]
  },
  {
   "cell_type": "code",
   "execution_count": null,
   "metadata": {},
   "outputs": [],
   "source": [
    "# URL\n",
    "url_hmp = 'https://astrogeology.usgs.gov/search/results?q=hemisphere+enhanced&k1=target&v1=Mars'\n",
    "browser.visit(url_hmp)"
   ]
  },
  {
   "cell_type": "code",
   "execution_count": null,
   "metadata": {},
   "outputs": [],
   "source": [
    "# Parse HTML file with BS\n",
    "html_hmp = browser.html\n",
    "soup_hmp = bs(html_hmp, \"html.parser\")"
   ]
  },
  {
   "cell_type": "code",
   "execution_count": null,
   "metadata": {},
   "outputs": [],
   "source": [
    "# Getting the image titles\n",
    "img_hmp = soup_hmp.find_all('a', class_='itemLink product-item')"
   ]
  },
  {
   "cell_type": "code",
   "execution_count": null,
   "metadata": {},
   "outputs": [],
   "source": [
    "# Concatenate the main URL with the respective image URL\n",
    "# The links were found manually\n",
    "url_img = 'https://astropedia.astrogeology.usgs.gov/'\n",
    "img_src_cer = url_img + 'download/Mars/Viking/cerberus_enhanced.tif/full.jpg'\n",
    "img_src_sch = url_img + 'download/Mars/Viking/schiaparelli_enhanced.tif/full.jpg'\n",
    "img_src_syr = url_img + 'download/Mars/Viking/syrtis_major_enhanced.tif/full.jpg'\n",
    "img_src_val = url_img + 'download/Mars/Viking/valles_marineris_enhanced.tif/full.jpg'"
   ]
  },
  {
   "cell_type": "code",
   "execution_count": null,
   "metadata": {},
   "outputs": [],
   "source": [
    "# Save image links\n",
    "imgs_hmp = [{\"title_hmp1\": img_hmp[1].find('h3').text, \"src_hmp1\": img_src_cer},\n",
    "    {\"title_hmp2\": img_hmp[3].find('h3').text, \"src_hmp2\": img_src_sch},\n",
    "    {\"title_hmp3\": img_hmp[5].find('h3').text, \"src_hmp3\": img_src_syr},\n",
    "    {\"title_hmp4\": img_hmp[7].find('h3').text, \"src_hmp4\": img_src_val}]"
   ]
  },
  {
   "cell_type": "markdown",
   "metadata": {},
   "source": [
    "#### Gather all data"
   ]
  },
  {
   "cell_type": "code",
   "execution_count": null,
   "metadata": {},
   "outputs": [],
   "source": [
    "# List to save info\n",
    "mars_data_total = []"
   ]
  },
  {
   "cell_type": "code",
   "execution_count": null,
   "metadata": {},
   "outputs": [],
   "source": [
    "# Only ten news\n",
    "for i in range(10):\n",
    "    mars_data_total.append({'title': news_title[i], 'prgph': news_title_prg[i]})"
   ]
  },
  {
   "cell_type": "code",
   "execution_count": null,
   "metadata": {},
   "outputs": [],
   "source": [
    "# Append hemisphere images\n",
    "mars_data_total.append(imgs_hmp)"
   ]
  },
  {
   "cell_type": "code",
   "execution_count": null,
   "metadata": {},
   "outputs": [],
   "source": [
    "# Append weather tweet\n",
    "mars_data_total.append(list_mars_weather)"
   ]
  },
  {
   "cell_type": "code",
   "execution_count": null,
   "metadata": {},
   "outputs": [],
   "source": [
    "# Append Mars image\n",
    "mars_data_total.append({'img_title': img_title, 'img_src': featured_image_url})"
   ]
  },
  {
   "cell_type": "code",
   "execution_count": null,
   "metadata": {},
   "outputs": [],
   "source": [
    "# Mars data total\n",
    "mars_data_total"
   ]
  },
  {
   "cell_type": "code",
   "execution_count": null,
   "metadata": {},
   "outputs": [],
   "source": []
  }
 ],
 "metadata": {
  "kernelspec": {
   "display_name": "Python 3.7.4 64-bit ('base': conda)",
   "language": "python",
   "name": "python37464bitbasecondaf8a42dbeb68b43b8ab181bef94341f6a"
  },
  "language_info": {
   "codemirror_mode": {
    "name": "ipython",
    "version": 3
   },
   "file_extension": ".py",
   "mimetype": "text/x-python",
   "name": "python",
   "nbconvert_exporter": "python",
   "pygments_lexer": "ipython3",
   "version": "3.7.4"
  }
 },
 "nbformat": 4,
 "nbformat_minor": 2
}